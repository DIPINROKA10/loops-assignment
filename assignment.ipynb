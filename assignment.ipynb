{
 "cells": [
  {
   "cell_type": "code",
   "execution_count": 3,
   "id": "2965d665-fd7e-4f94-8d96-586e556e1508",
   "metadata": {},
   "outputs": [
    {
     "name": "stdout",
     "output_type": "stream",
     "text": [
      "1 \n",
      "2 2 \n",
      "3 3 3 \n",
      "4 4 4 4 \n"
     ]
    }
   ],
   "source": [
    "n=4\n",
    "for i in range(1, n + 1): \n",
    "        for j in range(i):     \n",
    "            print(i, end=' ')   \n",
    "        print()               \n"
   ]
  },
  {
   "cell_type": "code",
   "execution_count": 7,
   "id": "5d2b5218-caba-4812-96b8-c28ec6fba4a1",
   "metadata": {},
   "outputs": [
    {
     "name": "stdout",
     "output_type": "stream",
     "text": [
      "1 1 \n",
      "2 2 2 \n",
      "3 3 3 3 \n",
      "4 4 4 4 4 \n"
     ]
    }
   ],
   "source": [
    "n=4\n",
    "for i in range(1, n + 1): \n",
    "        for j in range(i+1):     \n",
    "            print(i, end=' ')   \n",
    "        print()               \n"
   ]
  },
  {
   "cell_type": "code",
   "execution_count": 11,
   "id": "3a163f28-4a50-4d42-8bf6-d564f585a5b4",
   "metadata": {},
   "outputs": [
    {
     "name": "stdout",
     "output_type": "stream",
     "text": [
      "1 \n",
      "1 2 \n",
      "1 2 3 \n",
      "1 2 3 4 \n",
      "1 2 3 4 5 \n"
     ]
    }
   ],
   "source": [
    "n=5\n",
    "for i in range(1, n + 1):\n",
    "        for j in range(1, i + 1):\n",
    "            print(j, end=' ')\n",
    "        print()"
   ]
  },
  {
   "cell_type": "code",
   "execution_count": 13,
   "id": "257f58dd-a88b-4773-98ec-19c5a9fd94a8",
   "metadata": {},
   "outputs": [
    {
     "name": "stdout",
     "output_type": "stream",
     "text": [
      "5 4 3 2 1 \n",
      "4 3 2 1 \n",
      "3 2 1 \n",
      "2 1 \n",
      "1 \n"
     ]
    }
   ],
   "source": [
    "n=5\n",
    "for i in range(n, 0, -1):\n",
    "        for j in range(i, 0, -1):\n",
    "            print(j, end=' ')\n",
    "        print()"
   ]
  },
  {
   "cell_type": "code",
   "execution_count": 3,
   "id": "726415fe-9aed-4a02-8841-207f22d6aa8f",
   "metadata": {},
   "outputs": [
    {
     "name": "stdout",
     "output_type": "stream",
     "text": [
      "* * * * * \n",
      "*       * \n",
      "*       * \n",
      "*       * \n",
      "* * * * * \n"
     ]
    }
   ],
   "source": [
    "n=5\n",
    "for i in range(n): \n",
    "        for j in range(n):   \n",
    "            if i == 0 or i == n - 1 or j == 0 or j == n - 1:\n",
    "                print('*', end=' ')\n",
    "            else:\n",
    "                print(' ', end=' ')\n",
    "        print()  "
   ]
  },
  {
   "cell_type": "code",
   "execution_count": 9,
   "id": "8f60a015-4cd8-4a30-9be6-8ff07b76ab93",
   "metadata": {},
   "outputs": [
    {
     "name": "stdout",
     "output_type": "stream",
     "text": [
      "   \n",
      "  \n",
      " \n"
     ]
    }
   ],
   "source": [
    "n=3\n",
    "for i in range(n):\n",
    "    print(\" \"*(n-i))"
   ]
  },
  {
   "cell_type": "code",
   "execution_count": 3,
   "id": "6c6edaad-297a-48c8-9913-ddbf7220752c",
   "metadata": {},
   "outputs": [
    {
     "name": "stdout",
     "output_type": "stream",
     "text": [
      "1 \n",
      "1 1 \n",
      "1 2 1 \n",
      "1 3 3 1 \n",
      "1 4 6 4 1 \n"
     ]
    }
   ],
   "source": [
    "n=5\n",
    "for i in range(n):  \n",
    "        value = 1  \n",
    "        for j in range(i + 1):  \n",
    "            print(value, end=\" \")  \n",
    "            value = value * (i - j) // (j + 1)\n",
    "        print()  \n"
   ]
  },
  {
   "cell_type": "code",
   "execution_count": 12,
   "id": "2f3f571b-817b-4548-9c8c-d060919bdc22",
   "metadata": {},
   "outputs": [
    {
     "name": "stdout",
     "output_type": "stream",
     "text": [
      "  *\n",
      " ***\n",
      "*****\n",
      " ***\n",
      "  *\n"
     ]
    }
   ],
   "source": [
    "n=3\n",
    "for i in range(n):\n",
    "        for j in range(n - i - 1):\n",
    "            print(\" \", end=\"\")\n",
    "        for j in range(2 * i + 1):\n",
    "            print(\"*\", end=\"\")\n",
    "        print()  \n",
    "\n",
    "    \n",
    "for i in range(n - 2, -1, -1):\n",
    "        for j in range(n - i - 1):\n",
    "            print(\" \", end=\"\")\n",
    "        for j in range(2 * i + 1):\n",
    "            print(\"*\", end=\"\")\n",
    "        print()  \n",
    "\n"
   ]
  },
  {
   "cell_type": "code",
   "execution_count": 1,
   "id": "76dbb409-897c-42a6-a1a3-50b03f069045",
   "metadata": {},
   "outputs": [
    {
     "name": "stdout",
     "output_type": "stream",
     "text": [
      "e 1\n",
      "w 1\n",
      "o 2\n",
      "  1\n",
      "l 3\n",
      "d 1\n",
      "r 1\n",
      "h 1\n"
     ]
    }
   ],
   "source": [
    "input_string = \"hello world\"\n",
    "for char in set(input_string):\n",
    "    count = 0\n",
    "    for ch in input_string:\n",
    "        if ch == char:\n",
    "            count += 1\n",
    "    print(char,count)\n"
   ]
  },
  {
   "cell_type": "code",
   "execution_count": 11,
   "id": "a72325a3-e771-4050-9ce0-7938f863ea11",
   "metadata": {},
   "outputs": [
    {
     "name": "stdout",
     "output_type": "stream",
     "text": [
      "1 \n",
      "4 \n",
      "6 \n",
      "4 \n",
      "1 \n"
     ]
    }
   ],
   "source": [
    "n=5 \n",
    "for i in range(n):\n",
    "    value=1\n",
    "for j in range(i+1):\n",
    "    print(value,end=\" \")\n",
    "    value= value*(i-j)//(j+1)\n",
    "    print()"
   ]
  },
  {
   "cell_type": "code",
   "execution_count": 19,
   "id": "1b68ddb8-784c-4749-80d5-76dbc2940ce1",
   "metadata": {},
   "outputs": [
    {
     "name": "stdin",
     "output_type": "stream",
     "text": [
      "enter the number 2\n"
     ]
    },
    {
     "name": "stdout",
     "output_type": "stream",
     "text": [
      "1\n"
     ]
    }
   ],
   "source": [
    "n= int(input(\"enter the number\"))\n",
    "sum=0\n",
    "for i in range (1,n+1):\n",
    "    if i%2==0:\n",
    "        sum+=1\n",
    "print(sum)"
   ]
  },
  {
   "cell_type": "code",
   "execution_count": 23,
   "id": "e324d7de-fd5d-4933-9392-a697387cddb8",
   "metadata": {},
   "outputs": [
    {
     "name": "stdin",
     "output_type": "stream",
     "text": [
      " 1\n"
     ]
    },
    {
     "name": "stdout",
     "output_type": "stream",
     "text": [
      "factorial is1\n"
     ]
    }
   ],
   "source": [
    "#\n",
    "n=int(input())\n",
    "f=1\n",
    "if n<0:\n",
    "    print(\"negative number\")\n",
    "elif n==0 or n==1:\n",
    "    print(\"factorial is1\")\n",
    "else:\n",
    "    for i in range(1,n+1):\n",
    "        f*=i\n",
    "    print(f)"
   ]
  },
  {
   "cell_type": "code",
   "execution_count": 9,
   "id": "1bf03119-c021-49ee-989c-04f7abddf979",
   "metadata": {},
   "outputs": [
    {
     "name": "stdout",
     "output_type": "stream",
     "text": [
      "['a', 'ab', 'abc', 'b', 'bc', 'c']\n"
     ]
    }
   ],
   "source": [
    "string=\"abc\"\n",
    "substring=[]\n",
    "for i in range(len(string)):\n",
    "      for j in range (i+1,len(string)+1):\n",
    "        substring.append(string[i:j])\n",
    "print(substring)"
   ]
  },
  {
   "cell_type": "code",
   "execution_count": 50,
   "id": "79f733f3-9949-4ea9-937a-2c367c340446",
   "metadata": {},
   "outputs": [
    {
     "ename": "NameError",
     "evalue": "name 'num' is not defined",
     "output_type": "error",
     "traceback": [
      "\u001b[1;31m---------------------------------------------------------------------------\u001b[0m",
      "\u001b[1;31mNameError\u001b[0m                                 Traceback (most recent call last)",
      "Cell \u001b[1;32mIn[50], line 3\u001b[0m\n\u001b[0;32m      1\u001b[0m \u001b[38;5;28;01mfor\u001b[39;00m num \u001b[38;5;129;01min\u001b[39;00m \u001b[38;5;28mrange\u001b[39m(\u001b[38;5;241m2\u001b[39m, n \u001b[38;5;241m+\u001b[39m \u001b[38;5;241m1\u001b[39m):\n\u001b[0;32m      2\u001b[0m       is_prime \u001b[38;5;241m=\u001b[39m \u001b[38;5;28;01mTrue\u001b[39;00m\n\u001b[1;32m----> 3\u001b[0m \u001b[38;5;28;01mfor\u001b[39;00m i \u001b[38;5;129;01min\u001b[39;00m \u001b[38;5;28mrange\u001b[39m(\u001b[38;5;241m2\u001b[39m, \u001b[38;5;28mint\u001b[39m(\u001b[43mnum\u001b[49m\u001b[38;5;241m*\u001b[39m\u001b[38;5;241m*\u001b[39m\u001b[38;5;241m0.5\u001b[39m) \u001b[38;5;241m+\u001b[39m \u001b[38;5;241m1\u001b[39m):\n\u001b[0;32m      4\u001b[0m            \u001b[38;5;28;01mif\u001b[39;00m num \u001b[38;5;241m%\u001b[39m i \u001b[38;5;241m==\u001b[39m \u001b[38;5;241m0\u001b[39m:\n\u001b[0;32m      5\u001b[0m             is_prime \u001b[38;5;241m=\u001b[39m \u001b[38;5;28;01mFalse\u001b[39;00m\n",
      "\u001b[1;31mNameError\u001b[0m: name 'num' is not defined"
     ]
    }
   ],
   "source": [
    "for num in range(2, n + 1):\n",
    "      is_prime = True\n",
    "for i in range(2, int(num**0.5) + 1):\n",
    "           if num % i == 0:\n",
    "            is_prime = False\n",
    "            break\n",
    "if is_prime:\n",
    "        print(num)"
   ]
  },
  {
   "cell_type": "code",
   "execution_count": 60,
   "id": "a7099f46-e8d2-47e9-86bf-e2021ddd3d90",
   "metadata": {},
   "outputs": [
    {
     "name": "stdin",
     "output_type": "stream",
     "text": [
      " a\n"
     ]
    },
    {
     "name": "stdout",
     "output_type": "stream",
     "text": [
      "1\n"
     ]
    }
   ],
   "source": [
    "string = input()\n",
    "vowels = \"aeiouAEIOU\"\n",
    "count = 0\n",
    "for char in string:\n",
    "    if char in vowels:\n",
    "        count += 1\n",
    "    print(count)"
   ]
  },
  {
   "cell_type": "code",
   "execution_count": 62,
   "id": "5a22dd8f-b93b-47b2-9931-74be04c89476",
   "metadata": {},
   "outputs": [
    {
     "name": "stdin",
     "output_type": "stream",
     "text": [
      " dipin\n"
     ]
    },
    {
     "name": "stdout",
     "output_type": "stream",
     "text": [
      "nipid\n"
     ]
    }
   ],
   "source": [
    "string = input()\n",
    "reversed_string = \"\"\n",
    "for char in string: \n",
    "    reversed_string = char + reversed_string\n",
    "print(reversed_string)"
   ]
  },
  {
   "cell_type": "code",
   "execution_count": 64,
   "id": "ca38cc6f-1cc6-4693-b7eb-5957143c23ca",
   "metadata": {},
   "outputs": [
    {
     "name": "stdin",
     "output_type": "stream",
     "text": [
      " dipin\n"
     ]
    },
    {
     "name": "stdout",
     "output_type": "stream",
     "text": [
      "d\n",
      "di\n",
      "dip\n",
      "dipi\n",
      "dipin\n",
      "i\n",
      "ip\n",
      "ipi\n",
      "ipin\n",
      "p\n",
      "pi\n",
      "pin\n",
      "i\n",
      "in\n",
      "n\n"
     ]
    }
   ],
   "source": [
    "string = input()\n",
    "for i in range(len(string)):\n",
    "    for j in range(i + 1, len(string) + 1):\n",
    "        print(string[i:j])"
   ]
  },
  {
   "cell_type": "code",
   "execution_count": 66,
   "id": "eb8488dc-a137-43a4-b488-aee07e5900cb",
   "metadata": {},
   "outputs": [
    {
     "name": "stdin",
     "output_type": "stream",
     "text": [
      " dipin\n"
     ]
    },
    {
     "name": "stdout",
     "output_type": "stream",
     "text": [
      "d: 1\n",
      "i: 2\n",
      "p: 1\n",
      "n: 1\n"
     ]
    }
   ],
   "source": [
    "string = input()\n",
    "char_frequency = {}\n",
    "for char in string:\n",
    "    if char in char_frequency:\n",
    "        char_frequency[char] += 1\n",
    "    else:\n",
    "        char_frequency[char] = 1\n",
    "for char, freq in char_frequency.items():\n",
    "    print(f\"{char}: {freq}\")"
   ]
  },
  {
   "cell_type": "code",
   "execution_count": 68,
   "id": "d6f23d67-d868-42b8-8aea-db3fc27f6c26",
   "metadata": {},
   "outputs": [
    {
     "name": "stdout",
     "output_type": "stream",
     "text": [
      "  1   2   3   4   5   6   7   8   9  10 \n",
      "  2   4   6   8  10  12  14  16  18  20 \n",
      "  3   6   9  12  15  18  21  24  27  30 \n",
      "  4   8  12  16  20  24  28  32  36  40 \n",
      "  5  10  15  20  25  30  35  40  45  50 \n",
      "  6  12  18  24  30  36  42  48  54  60 \n",
      "  7  14  21  28  35  42  49  56  63  70 \n",
      "  8  16  24  32  40  48  56  64  72  80 \n",
      "  9  18  27  36  45  54  63  72  81  90 \n",
      " 10  20  30  40  50  60  70  80  90 100 \n"
     ]
    }
   ],
   "source": [
    "for i in range(1,10+1):\n",
    "    for j in range(1,10+1):\n",
    "        print(f\"{i * j:3}\", end=\" \")\n",
    "    print()"
   ]
  },
  {
   "cell_type": "code",
   "execution_count": 70,
   "id": "21a4bc05-5d19-4d68-ac4b-a42eb4303206",
   "metadata": {},
   "outputs": [
    {
     "name": "stdin",
     "output_type": "stream",
     "text": [
      "Enter the value of n:  4\n"
     ]
    },
    {
     "name": "stdout",
     "output_type": "stream",
     "text": [
      "1 2 3 4 \n",
      "2 4 6 8 \n",
      "3 6 9 12 \n",
      "4 8 12 16 \n"
     ]
    }
   ],
   "source": [
    "n = int(input(\"Enter the value of n: \"))\n",
    "for i in range(1, n+1):\n",
    "    for j in range(1, n+1):\n",
    "        print(i * j, end=\" \")\n",
    "    print()"
   ]
  },
  {
   "cell_type": "code",
   "execution_count": 13,
   "id": "5a1cb5de-2dd2-4151-bc75-cdd6763f9c52",
   "metadata": {},
   "outputs": [
    {
     "name": "stdin",
     "output_type": "stream",
     "text": [
      "Enter the number of terms:  9\n"
     ]
    },
    {
     "name": "stdout",
     "output_type": "stream",
     "text": [
      "[0, 1, 1, 2, 3, 5, 8, 13, 21]\n"
     ]
    }
   ],
   "source": [
    "# Qustion 16\n",
    "def fibonacci(n):\n",
    "    fib_series = [] \n",
    "    a, b = 0, 1\n",
    "    for i in range(n):\n",
    "        fib_series.append(a)  \n",
    "        a, b = b, a + b  \n",
    "    return fib_series  \n",
    "n_terms = int(input(\"Enter the number of terms: \"))\n",
    "print(fibonacci(n_terms))"
   ]
  },
  {
   "cell_type": "code",
   "execution_count": null,
   "id": "e8ffdaca-d12f-400d-bb3c-df5a77b15cb7",
   "metadata": {},
   "outputs": [],
   "source": []
  }
 ],
 "metadata": {
  "kernelspec": {
   "display_name": "Python 3 (ipykernel)",
   "language": "python",
   "name": "python3"
  },
  "language_info": {
   "codemirror_mode": {
    "name": "ipython",
    "version": 3
   },
   "file_extension": ".py",
   "mimetype": "text/x-python",
   "name": "python",
   "nbconvert_exporter": "python",
   "pygments_lexer": "ipython3",
   "version": "3.12.4"
  }
 },
 "nbformat": 4,
 "nbformat_minor": 5
}
